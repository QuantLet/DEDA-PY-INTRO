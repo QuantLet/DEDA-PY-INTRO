{
 "cells": [
  {
   "cell_type": "markdown",
   "metadata": {},
   "source": [
    "# Python Introduction: OOP and Building Blockchains\n",
    "\n",
    "\n",
    "## Contents \n",
    "\n",
    "[1. Object Oriented Programming](#OOP) <br>\n",
    "&emsp;    [1.1 Classes](#Classes)<br>\n",
    "&emsp;    [1.2 Instances](#Instances)<br>\n",
    "&emsp;    [1.3 Instance Attributes](#Instance_Attributes)<br>\n",
    "&emsp;    [1.4 Class Attributes](#Class_Attributes)<br>\n",
    "&emsp;    [1.5 Instantiating Objects](#Instantiating_Objects)<br>\n",
    "&emsp;    [1.6 Instance Methods](#Instance_Methods)\n",
    "\n",
    "[2. A simple Blockchain](#A_simple_Blockchain)\n",
    "\n",
    "[3. Exercises](#Exercises)"
   ]
  },
  {
   "cell_type": "markdown",
   "metadata": {},
   "source": [
    "## OOP\n",
    "\n",
    "Object-oriented Programming, or OOP for short, is a programming paradigm which provides a means of structuring programs so that properties and behaviors are bundled into individual objects.\n",
    "\n",
    "For instance, an object could represent a person with a name property, age, address, etc., with behaviors like walking, talking, breathing, and running. Or an email with properties like recipient list, subject, body, etc., and behaviors like adding attachments and sending.\n",
    "\n",
    "Put another way, object-oriented programming is an approach for modeling concrete, real-world things like cars as well as relations between things like companies and employees, students and teachers, etc. \n",
    "\n",
    "\n",
    "# Classes\n",
    "\n",
    "Classes are used to create new user-defined data structures that contain arbitrary information about something. In the case of an animal, we could create an Animal() class to track properties about the Animal like the name and age.\n",
    "\n",
    "It’s important to note that a class just provides structure—it’s a blueprint for how something should be defined, but it doesn’t actually provide any real content itself. The Animal() class may specify that the name and age are necessary for defining an animal, but it will not actually state what a specific animal’s name or age is.\n",
    "\n",
    "It may help to think of a class as an idea for how something should be defined."
   ]
  },
  {
   "cell_type": "code",
   "execution_count": 15,
   "metadata": {},
   "outputs": [],
   "source": [
    "# Example definition of a class\n",
    "\n",
    "class Dog:\n",
    "    pass # pass does nothing and just makes sure the code compiles"
   ]
  },
  {
   "cell_type": "code",
   "execution_count": 16,
   "metadata": {},
   "outputs": [
    {
     "ename": "SyntaxError",
     "evalue": "unexpected EOF while parsing (<ipython-input-16-6de2f0e21ad0>, line 1)",
     "output_type": "error",
     "traceback": [
      "\u001b[0;36m  File \u001b[0;32m\"<ipython-input-16-6de2f0e21ad0>\"\u001b[0;36m, line \u001b[0;32m1\u001b[0m\n\u001b[0;31m    class Dog:\u001b[0m\n\u001b[0m              ^\u001b[0m\n\u001b[0;31mSyntaxError\u001b[0m\u001b[0;31m:\u001b[0m unexpected EOF while parsing\n"
     ]
    }
   ],
   "source": [
    "class Dog:"
   ]
  },
  {
   "cell_type": "code",
   "execution_count": 17,
   "metadata": {},
   "outputs": [],
   "source": [
    "class Dog:\n",
    "    ''' This is a dog class'''"
   ]
  },
  {
   "cell_type": "code",
   "execution_count": 18,
   "metadata": {},
   "outputs": [],
   "source": [
    "def function_something(parameter):\n",
    "    pass"
   ]
  },
  {
   "cell_type": "markdown",
   "metadata": {},
   "source": [
    "# Instances\n",
    "\n",
    "While the class is the blueprint, an instance is a copy of the class with actual values, literally an object belonging to a specific class. It’s not an idea anymore; it’s an actual animal, like a dog named Roger who’s eight years old.\n",
    "\n",
    "\n"
   ]
  },
  {
   "cell_type": "code",
   "execution_count": 19,
   "metadata": {},
   "outputs": [],
   "source": [
    "roger = Dog()"
   ]
  },
  {
   "cell_type": "code",
   "execution_count": 20,
   "metadata": {},
   "outputs": [
    {
     "data": {
      "text/plain": [
       "__main__.Dog"
      ]
     },
     "execution_count": 20,
     "metadata": {},
     "output_type": "execute_result"
    }
   ],
   "source": [
    "type(roger)"
   ]
  },
  {
   "cell_type": "markdown",
   "metadata": {},
   "source": [
    "# Instance Attributes <a id='Instance_Attributes'></a>\n",
    "Instance attributes are owned by the specific instances of a class. This means for two different instances, the instance attributes are usually different. Use the __init__() method to initialize (e.g., specify) an object’s initial attributes by giving them their default value (or state). This method must have at least one argument as well as the self variable, which refers to the object itself (e.g., Dog).\n"
   ]
  },
  {
   "cell_type": "code",
   "execution_count": 21,
   "metadata": {},
   "outputs": [],
   "source": [
    "# Example definition of a class including certain instance attributes\n",
    "\n",
    "class Dog:\n",
    "    # Initializer / Instance Attributes\n",
    "    def __init__(self, name, age):\n",
    "        self.name = name\n",
    "        self.age = age"
   ]
  },
  {
   "cell_type": "code",
   "execution_count": 26,
   "metadata": {},
   "outputs": [],
   "source": [
    "frank = Dog('frank', 9)"
   ]
  },
  {
   "cell_type": "code",
   "execution_count": 23,
   "metadata": {},
   "outputs": [
    {
     "data": {
      "text/plain": [
       "<__main__.Dog at 0x10d9d4668>"
      ]
     },
     "execution_count": 23,
     "metadata": {},
     "output_type": "execute_result"
    }
   ],
   "source": [
    "frank"
   ]
  },
  {
   "cell_type": "code",
   "execution_count": 25,
   "metadata": {},
   "outputs": [],
   "source": [
    "class Dog:\n",
    "    # Initializer / Instance Attributes\n",
    "    def __init__(self, name, age):\n",
    "        self.name = name\n",
    "        self.age = age\n",
    "        \n",
    "    def __str__(self):\n",
    "        return (f'Dog named {self.name}')"
   ]
  },
  {
   "cell_type": "code",
   "execution_count": null,
   "metadata": {},
   "outputs": [],
   "source": []
  },
  {
   "cell_type": "code",
   "execution_count": 28,
   "metadata": {},
   "outputs": [],
   "source": [
    "del frank"
   ]
  },
  {
   "cell_type": "code",
   "execution_count": 29,
   "metadata": {},
   "outputs": [
    {
     "ename": "NameError",
     "evalue": "name 'frank' is not defined",
     "output_type": "error",
     "traceback": [
      "\u001b[0;31m---------------------------------------------------------------------------\u001b[0m",
      "\u001b[0;31mNameError\u001b[0m                                 Traceback (most recent call last)",
      "\u001b[0;32m<ipython-input-29-bfc50635b742>\u001b[0m in \u001b[0;36m<module>\u001b[0;34m\u001b[0m\n\u001b[0;32m----> 1\u001b[0;31m \u001b[0mfrank\u001b[0m\u001b[0;34m\u001b[0m\u001b[0;34m\u001b[0m\u001b[0m\n\u001b[0m",
      "\u001b[0;31mNameError\u001b[0m: name 'frank' is not defined"
     ]
    }
   ],
   "source": [
    "frank"
   ]
  },
  {
   "cell_type": "markdown",
   "metadata": {},
   "source": [
    "NOTE: You will never have to call the __init__() method; it gets called automatically when you create a new ‘Dog’ instance.\n",
    "\n",
    "# Class Attributes<a id='Class_Attributes'></a>\n",
    "\n",
    "While instance attributes are specific to each object, class attributes are the same for all instances—which in this case is all dogs."
   ]
  },
  {
   "cell_type": "code",
   "execution_count": 30,
   "metadata": {},
   "outputs": [],
   "source": [
    "# Example definition of a class including certain instance attributes and a clas attribute\n",
    "\n",
    "class Dog:\n",
    "\n",
    "    # Class Attribute\n",
    "    species = 'mammal'\n",
    "\n",
    "    # Initializer / Instance Attributes\n",
    "    def __init__(self, name, age):\n",
    "        self.name = name\n",
    "        self.age = age"
   ]
  },
  {
   "cell_type": "code",
   "execution_count": 31,
   "metadata": {},
   "outputs": [],
   "source": [
    "frank = Dog('frank', 9)\n",
    "frank2 = Dog('frank2', 19)"
   ]
  },
  {
   "cell_type": "code",
   "execution_count": 35,
   "metadata": {},
   "outputs": [
    {
     "data": {
      "text/plain": [
       "'frank'"
      ]
     },
     "execution_count": 35,
     "metadata": {},
     "output_type": "execute_result"
    }
   ],
   "source": [
    "frank.name"
   ]
  },
  {
   "cell_type": "markdown",
   "metadata": {},
   "source": [
    "So while each dog has a unique name and age, every dog will be a mammal.\n",
    "\n",
    "# Instantiating Objects<a id='Instantiating_Objects'></a>\n",
    "\n",
    "Instantiating is a fancy term for creating a new, unique instance of a class."
   ]
  },
  {
   "cell_type": "code",
   "execution_count": 36,
   "metadata": {},
   "outputs": [
    {
     "name": "stdout",
     "output_type": "stream",
     "text": [
      "Bruno is 5 and Mikey is 6.\n",
      "Bruno is a mammal!\n"
     ]
    }
   ],
   "source": [
    "# Instantiate the Dog object\n",
    "bruno = Dog(\"Bruno\", 5)\n",
    "mikey = Dog(\"Mikey\", 6)\n",
    "\n",
    "# Access the instance attributes\n",
    "print(f\"{bruno.name} is {bruno.age} and {mikey.name} is {mikey.age}.\")\n",
    "\n",
    "# Is Philo a mammal?\n",
    "if bruno.species == \"mammal\":\n",
    "    print(f\"{bruno.name} is a {bruno.species}!\")"
   ]
  },
  {
   "cell_type": "code",
   "execution_count": 37,
   "metadata": {},
   "outputs": [],
   "source": [
    "bruno.species = \"something else\""
   ]
  },
  {
   "cell_type": "code",
   "execution_count": 38,
   "metadata": {},
   "outputs": [
    {
     "data": {
      "text/plain": [
       "'something else'"
      ]
     },
     "execution_count": 38,
     "metadata": {},
     "output_type": "execute_result"
    }
   ],
   "source": [
    "bruno.species"
   ]
  },
  {
   "cell_type": "code",
   "execution_count": 39,
   "metadata": {},
   "outputs": [
    {
     "data": {
      "text/plain": [
       "'mammal'"
      ]
     },
     "execution_count": 39,
     "metadata": {},
     "output_type": "execute_result"
    }
   ],
   "source": [
    "mikey.species"
   ]
  },
  {
   "cell_type": "code",
   "execution_count": 40,
   "metadata": {},
   "outputs": [
    {
     "data": {
      "text/plain": [
       "'mammal'"
      ]
     },
     "execution_count": 40,
     "metadata": {},
     "output_type": "execute_result"
    }
   ],
   "source": [
    "Dog.species"
   ]
  },
  {
   "cell_type": "markdown",
   "metadata": {},
   "source": [
    "NOTE: Notice how we use dot notation to access attributes from each object.\n",
    "\n",
    "You might be wondering why we didn’t have to pass in the self argument.\n",
    "\n",
    "This is Python magic; when you create a new instance of the class, Python automatically determines what self is (a Dog in this case) and passes it to the __init__ method.\n",
    "\n",
    "# Instance Methods<a id='Instance_Methods'></a>\n",
    "\n",
    "Instance methods are defined inside a class and are used to get the contents of an instance. They can also be used to perform operations with the attributes of our objects. Like the __init__ method, the first argument is always self:"
   ]
  },
  {
   "cell_type": "code",
   "execution_count": 41,
   "metadata": {},
   "outputs": [],
   "source": [
    "#pip install pyttsx3\n",
    "\n",
    "import pyttsx3\n",
    "\n",
    "class Dog:\n",
    "\n",
    "    # Class Attribute\n",
    "    species = 'mammal'\n",
    "\n",
    "    # Initializer / Instance Attributes\n",
    "    def __init__(self, name, age):\n",
    "        self.name = name\n",
    "        self.age = age\n",
    "        self.engine = pyttsx3.init()\n",
    "        self.engine.setProperty('rate', 25)\n",
    "        \"\"\" com.apple.speech.. is system depend you can find your voice of choices ID using the following code:\n",
    "    \n",
    "        voices = engine.getProperty('voices')\n",
    "        for voice in voices:\n",
    "            print(\"Voice:\")\n",
    "            print(\" - ID: %s\" % voice.id)\n",
    "            print(\" - Name: %s\" % voice.name)\n",
    "            print(\" - Languages: %s\" % voice.languages)\n",
    "            print(\" - Gender: %s\" % voice.gender)\n",
    "            print(\" - Age: %s\" % voice.age)\"\"\"\n",
    "        \n",
    "        self.engine.setProperty('voice', \"com.apple.speech.synthesis.voice.daniel\") \n",
    "        \n",
    "\n",
    "    # instance method\n",
    "    def description(self):\n",
    "        self.engine.say(\"My name is {} and i am {} years old\".format(self.name, self.age))\n",
    "        self.engine.runAndWait()\n",
    "\n",
    "    # instance method\n",
    "    def custom_speak(self, sound):\n",
    "        self.engine.say(\"{}\".format(sound))\n",
    "        self.engine.runAndWait()"
   ]
  },
  {
   "cell_type": "code",
   "execution_count": 42,
   "metadata": {},
   "outputs": [],
   "source": [
    "# Instantiate the Dog object\n",
    "mikey = Dog(\"Mikey\", 6)\n",
    "\n",
    "# call our instance methods\n",
    "mikey.description()\n",
    "mikey.custom_speak(\"I like bones\")"
   ]
  },
  {
   "cell_type": "markdown",
   "metadata": {},
   "source": [
    "# A simple Blockchain<a id='A_simple_Blockchain'></a>\n",
    "\n",
    "Let's make a simple blockchain in less than 50 lines of Python. It’ll be called MoneyCoin.\n",
    "We’ll start by first defining what our blocks will look like. In blockchain, each block is stored with a timestamp and, optionally, an index. In MoneyCoin, we’re going to store both. And to help ensure integrity throughout the blockchain, each block will have a self-identifying hash. Like Bitcoin, each block’s hash will be a cryptographic hash of the block’s index, timestamp, data, and the hash of the previous block’s hash. Oh, and the data can be anything you want.\n"
   ]
  },
  {
   "cell_type": "code",
   "execution_count": 46,
   "metadata": {},
   "outputs": [],
   "source": [
    "#!pip install hashlib\n",
    "\n",
    "import hashlib as hasher\n",
    "import datetime as date\n",
    "\n",
    "class Block:\n",
    "  def __init__(self, index, timestamp, data, previous_hash):\n",
    "    self.index = index \n",
    "    self.timestamp = timestamp\n",
    "    self.data = data # arbitrary data\n",
    "    self.previous_hash = previous_hash\n",
    "    self.hash = self.hash_block()\n",
    "  \n",
    "  def hash_block(self):\n",
    "    sha = hasher.sha256()\n",
    "    sha.update((str(self.index) + \n",
    "               str(self.timestamp) + \n",
    "               str(self.data) + \n",
    "               str(self.previous_hash)).encode('utf-8'))\n",
    "    return sha.hexdigest()"
   ]
  },
  {
   "cell_type": "markdown",
   "metadata": {},
   "source": [
    "Awesome! We have our block structure, but we’re creating a blockchain. We need to start adding blocks to the actual chain. As I mentioned earlier, each block requires information from the previous block. But with that being said, a question arises: how does the first block in the blockchain get there? Well, the first block, or genesis block, is a special block. In many cases, it’s added manually or has unique logic allowing it to be added.\n",
    "\n",
    "We’ll create a function that simply returns a genesis block to make things easy. This block is of index 0, and it has an arbitrary data value and an arbitrary value in the “previous hash” parameter."
   ]
  },
  {
   "cell_type": "code",
   "execution_count": 47,
   "metadata": {},
   "outputs": [],
   "source": [
    "def create_genesis_block():\n",
    "  # Manually construct a block with\n",
    "  # index zero and arbitrary previous hash\n",
    "  return Block(0, date.datetime.now(), \"Genesis Block\", \"0\")"
   ]
  },
  {
   "cell_type": "markdown",
   "metadata": {},
   "source": [
    "Now that we’re able to create a genesis block, we need a function that will generate succeeding blocks in the blockchain. This function will take the previous block in the chain as a parameter, create the data for the block to be generated, and return the new block with its appropriate data. When new blocks hash information from previous blocks, the integrity of the blockchain increases with each new block. If we didn’t do this, it would be easier for an outside party to “change the past” and replace our chain with an entirely new one of their own. This chain of hashes acts as cryptographic proof and helps ensure that once a block is added to the blockchain it cannot be replaced or removed."
   ]
  },
  {
   "cell_type": "code",
   "execution_count": 48,
   "metadata": {},
   "outputs": [],
   "source": [
    "def next_block(last_block):\n",
    "  this_index = last_block.index + 1\n",
    "  this_timestamp = date.datetime.now()\n",
    "  this_data = \"Hey! I'm block \" + str(this_index)\n",
    "  this_hash = last_block.hash\n",
    "  return Block(this_index, this_timestamp, this_data, this_hash)"
   ]
  },
  {
   "cell_type": "markdown",
   "metadata": {},
   "source": [
    "Now, we can create our blockchain! In our case, the blockchain itself is a simple Python list. The first element of the list is the genesis block. And of course, we need to add the succeeding blocks. Because MoneyCoin is the tiniest blockchain, we’ll only add 20 new blocks. We can do this with a for loop."
   ]
  },
  {
   "cell_type": "code",
   "execution_count": 49,
   "metadata": {},
   "outputs": [
    {
     "name": "stdout",
     "output_type": "stream",
     "text": [
      "Block #1 has been added to the blockchain!\n",
      "Hash: d2c7ae346212f30c000f9c9a87a8f64810484d28da9e878163e7b4dd62ecbd79\n",
      "\n",
      "Block #2 has been added to the blockchain!\n",
      "Hash: 603fe9c666312afa89fb1653c9fc5d938749db790a7f84210160c532e2b2b222\n",
      "\n",
      "Block #3 has been added to the blockchain!\n",
      "Hash: feb9f7035fbd53663f8cb829d004a7e8e9c3d92d283967d895b0ba880e65325f\n",
      "\n",
      "Block #4 has been added to the blockchain!\n",
      "Hash: ecb4966f9acf25df76dee30595b41df456ca783ae8575dcca39255d39172e84b\n",
      "\n",
      "Block #5 has been added to the blockchain!\n",
      "Hash: 764f1d7e10d598ea5d0510cb4c66bcad92b8f5b0298d1d642037262368cdf98d\n",
      "\n",
      "Block #6 has been added to the blockchain!\n",
      "Hash: b5932c01e075262bfc05a6f2b0340708c24846e619849ebf02f842037e30d028\n",
      "\n",
      "Block #7 has been added to the blockchain!\n",
      "Hash: f967480f6e170b33d0bf001d446a5dfdcacf01f2f6904052465d369d6fb0a78d\n",
      "\n",
      "Block #8 has been added to the blockchain!\n",
      "Hash: dc00ecc4f1ad47883037b16ee450ec42604618e1c283fdc7dfb79c4a2861753a\n",
      "\n",
      "Block #9 has been added to the blockchain!\n",
      "Hash: 65bdf54fdb36a4697072e5ee31c0ef416743558fedcf405125f87bd855815869\n",
      "\n",
      "Block #10 has been added to the blockchain!\n",
      "Hash: 70cd0ccb85d59d44889ad4ebc93670c42f6f2ae4ffbe0b6e620c89eac19033bc\n",
      "\n",
      "Block #11 has been added to the blockchain!\n",
      "Hash: d97a83508ad1bb4b8a7ebe67e8823dec8e4663c422108522b00a17e17674da1f\n",
      "\n",
      "Block #12 has been added to the blockchain!\n",
      "Hash: 4f67ec227bc22626e08c80f270d9a21f75e04ae0d1dffd608b10ff4c39cd8dd8\n",
      "\n",
      "Block #13 has been added to the blockchain!\n",
      "Hash: 49160e6f9dfce0cc2a08bb9af8c1d46f45c35c3708bbe25806db53d3d83ad215\n",
      "\n",
      "Block #14 has been added to the blockchain!\n",
      "Hash: 6e6b502e587a898202c705f74b4e977798eae3f1471a51372415d671a6ac59ac\n",
      "\n",
      "Block #15 has been added to the blockchain!\n",
      "Hash: 35fe64305fbcc3bd062e2488352edb3c230fe1ecb277315e7956d94bd3da7058\n",
      "\n",
      "Block #16 has been added to the blockchain!\n",
      "Hash: a76996690abec07705a9f849f036a4cbad0537a3c459a2894b9c9ef9ad3520cf\n",
      "\n",
      "Block #17 has been added to the blockchain!\n",
      "Hash: bfea159929e879263be3974859aba9acc16da9ce53de4b5f2120e0144c59a9d9\n",
      "\n",
      "Block #18 has been added to the blockchain!\n",
      "Hash: c91475b8ba06b25bf072db56a1f36b68ca9b0f541198ca962c6ea3d5b495bcb2\n",
      "\n",
      "Block #19 has been added to the blockchain!\n",
      "Hash: f3569ec7b5db7a0ebcd28a9ca63d5fb4b8aa8326a8b593f8878dd59068f242fb\n",
      "\n",
      "Block #20 has been added to the blockchain!\n",
      "Hash: 73612feb65863a86daa6b4e8694b3717034919341a01540dd3c158f01532371f\n",
      "\n"
     ]
    }
   ],
   "source": [
    "# Create the blockchain and add the genesis block\n",
    "blockchain = [create_genesis_block()]\n",
    "previous_block = blockchain[0]\n",
    "\n",
    "# How many blocks should we add to the chain\n",
    "# after the genesis block\n",
    "num_of_blocks_to_add = 20\n",
    "\n",
    "# Add blocks to the chain\n",
    "for i in range(0, num_of_blocks_to_add):\n",
    "  block_to_add = next_block(previous_block)\n",
    "  blockchain.append(block_to_add)\n",
    "  previous_block = block_to_add\n",
    "  # Tell everyone about it!\n",
    "  print(\"Block #{} has been added to the blockchain!\".format(block_to_add.index))\n",
    "  print(\"Hash: {}\\n\".format(block_to_add.hash))"
   ]
  },
  {
   "cell_type": "markdown",
   "metadata": {},
   "source": [
    "To make MoneyCoin scale to the size of today’s production blockchains, we’d have to add more features like a server layer to track changes to the chain on multiple machines and a proof-of-work or similiar algorithm to limit the amount of blocks added in a given time period.\n",
    "\n",
    "As stated above, to actually build a real world blockchain, one needs to further improve the above code. Feel free to read the following article which is based on the code above (please note, you need to understand a little bit about http): \n",
    "\n",
    "https://medium.com/crypto-currently/lets-make-the-tiniest-blockchain-bigger-ac360a328f4d\n",
    "\n",
    "\n",
    "## Exercises\n",
    "\n",
    "Create a simplified version of Black Jack (Ace counts as 1, no stakes, no insurance and no split). To do so, create a deck of cards class. Internally, the deck of cards should use another class, a card class. Your requirements are:\n",
    "\n",
    " - The Deck class should have a deal method to deal a single card from the deck\n",
    " - After a card is dealt, it is removed from the deck.\n",
    " - There should be a shuffle method which makes sure the deck of cards has all 52 cards and then rearranges them randomly.\n",
    " - The Card class should have a suit (Hearts, Diamonds, Clubs, Spades), a value (A,2,3,4,5,6,7,8,9,10,J,Q,K) and the corresponding points from black Jack as attributes\n",
    " "
   ]
  },
  {
   "cell_type": "code",
   "execution_count": null,
   "metadata": {},
   "outputs": [],
   "source": [
    "# Type in your solution here."
   ]
  },
  {
   "cell_type": "code",
   "execution_count": null,
   "metadata": {},
   "outputs": [],
   "source": []
  }
 ],
 "metadata": {
  "kernelspec": {
   "display_name": "Python 3",
   "language": "python",
   "name": "python3"
  },
  "language_info": {
   "codemirror_mode": {
    "name": "ipython",
    "version": 3
   },
   "file_extension": ".py",
   "mimetype": "text/x-python",
   "name": "python",
   "nbconvert_exporter": "python",
   "pygments_lexer": "ipython3",
   "version": "3.7.3"
  }
 },
 "nbformat": 4,
 "nbformat_minor": 2
}
