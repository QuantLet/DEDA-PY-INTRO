{
 "cells": [
  {
   "cell_type": "markdown",
   "metadata": {},
   "source": [
    "# Python Introduction\n",
    "\n",
    "## Motivation\n",
    "\n",
    "This is file used to introduce you to the basics of python programmming. \n",
    "\n",
    "\n",
    "\n",
    "## Contents \n",
    "\n",
    "[1. Datatypes](#Datatypes)\n",
    "\n",
    "$\\qquad$[1.1 Strings](#Strings)\n",
    "\n",
    "$\\qquad$[1.2 Numbers](#Numbers)\n",
    "\n",
    "$\\qquad$[1.3 Boolean](#Boolean)\n",
    "\n",
    "$\\qquad$[1.4 Lists](#Lists)\n",
    "\n",
    "$\\qquad$[1.5 Dictionaries](#Dictionaries)\n",
    "\n",
    "[2. Arithmetics](#Arithmetics)\n",
    "\n",
    "[3. Conditionals](#Conditionals)\n",
    "\n",
    "[4. Functions](#Functions)\n",
    "\n",
    "[5. Loops](#Loops)\n",
    "\n",
    "[6. Exercises](#Exercises)\n",
    "\n",
    "\n",
    "\n",
    "\n"
   ]
  },
  {
   "cell_type": "markdown",
   "metadata": {},
   "source": [
    "## Datatypes\n",
    "\n",
    "### Strings"
   ]
  },
  {
   "cell_type": "code",
   "execution_count": null,
   "metadata": {},
   "outputs": [],
   "source": [
    "\"It's working\""
   ]
  },
  {
   "cell_type": "code",
   "execution_count": null,
   "metadata": {},
   "outputs": [],
   "source": [
    "my_string = 'CRIX is great!'"
   ]
  },
  {
   "cell_type": "code",
   "execution_count": null,
   "metadata": {},
   "outputs": [],
   "source": [
    "my_string"
   ]
  },
  {
   "cell_type": "code",
   "execution_count": null,
   "metadata": {},
   "outputs": [],
   "source": [
    "type(my_string)"
   ]
  },
  {
   "cell_type": "markdown",
   "metadata": {},
   "source": [
    "#### Indexing\n",
    "\n",
    "Objects which represent ordered sequences (e.g. strings and lists) can be called using indices. This index allows you to extract certain values respectively sub sequences of the object at hand.\n",
    "\n",
    "`Object[i:j:k]` = From `i` (including) until `j` (excluding) in `k` steps"
   ]
  },
  {
   "cell_type": "code",
   "execution_count": null,
   "metadata": {},
   "outputs": [],
   "source": [
    "x = 'Crix is awesome!'\n",
    "print(x[3])        # single element at position 3 -> 'x'\n",
    "print(x[0:2])      # sequence including 0 'C' until but excluding 2 'i'\n",
    "print(x[1:])       # every element starting from position 1 'r'\n",
    "print(x[::2])      # every second element\n",
    "print(x[-4:-2])    # including element at position -4 'o' until but excluding -2 'e'\n",
    "print(x[::-1])     # complete string but reveserd"
   ]
  },
  {
   "cell_type": "markdown",
   "metadata": {},
   "source": [
    "#### str.replace()"
   ]
  },
  {
   "cell_type": "code",
   "execution_count": null,
   "metadata": {
    "scrolled": true
   },
   "outputs": [],
   "source": [
    "# Use the help function, if you are not sure how a certain funtion or method works. \n",
    "help(str.replace)"
   ]
  },
  {
   "cell_type": "code",
   "execution_count": null,
   "metadata": {},
   "outputs": [],
   "source": [
    "my_string = my_string.replace('great','top')"
   ]
  },
  {
   "cell_type": "code",
   "execution_count": null,
   "metadata": {},
   "outputs": [],
   "source": [
    "my_string"
   ]
  },
  {
   "cell_type": "code",
   "execution_count": null,
   "metadata": {},
   "outputs": [],
   "source": [
    "# Please note, 'replace' doesn't store the new string in my_string\n",
    "my_string"
   ]
  },
  {
   "cell_type": "code",
   "execution_count": null,
   "metadata": {},
   "outputs": [],
   "source": [
    "my_new_string = my_string.replace('great','top')\n",
    "my_new_string"
   ]
  },
  {
   "cell_type": "code",
   "execution_count": null,
   "metadata": {},
   "outputs": [],
   "source": [
    "substring = 'Crix'\n",
    "string = 'Crix,it\"s,great!'"
   ]
  },
  {
   "cell_type": "code",
   "execution_count": null,
   "metadata": {},
   "outputs": [],
   "source": [
    "'its' in string"
   ]
  },
  {
   "cell_type": "code",
   "execution_count": null,
   "metadata": {},
   "outputs": [],
   "source": [
    "# Check if a certain substring is contained in a string\n",
    "substring = 'Crix'\n",
    "string = 'Crix is great!'\n",
    "\n",
    "print('Is ' + substring + ' contained: ' + str(substring in string))"
   ]
  },
  {
   "cell_type": "markdown",
   "metadata": {},
   "source": [
    "#### str.format()"
   ]
  },
  {
   "cell_type": "code",
   "execution_count": null,
   "metadata": {},
   "outputs": [],
   "source": [
    "secret = '{} is awesome'.format('CRIX')\n",
    "print(secret)"
   ]
  },
  {
   "cell_type": "code",
   "execution_count": null,
   "metadata": {},
   "outputs": [],
   "source": [
    "print('{} is a {} {}.'.format('CRIX', 'cryptocurrency', 'index'))"
   ]
  },
  {
   "cell_type": "code",
   "execution_count": null,
   "metadata": {},
   "outputs": [],
   "source": [
    "print('{a} is a {b} {c}.'.format(a='CRIX', b='cryptocurrency', c = 'index'))"
   ]
  },
  {
   "cell_type": "code",
   "execution_count": null,
   "metadata": {},
   "outputs": [],
   "source": [
    "f\"{round(1/4, 2)} - let's use it\""
   ]
  },
  {
   "cell_type": "code",
   "execution_count": null,
   "metadata": {},
   "outputs": [],
   "source": [
    "name = 'Liza'"
   ]
  },
  {
   "cell_type": "code",
   "execution_count": null,
   "metadata": {},
   "outputs": [],
   "source": [
    "f'hi, {name}'"
   ]
  },
  {
   "cell_type": "markdown",
   "metadata": {},
   "source": [
    "#### str.join()"
   ]
  },
  {
   "cell_type": "code",
   "execution_count": null,
   "metadata": {},
   "outputs": [],
   "source": [
    "'_'.join(['Mom', 'Dad'])"
   ]
  },
  {
   "cell_type": "code",
   "execution_count": null,
   "metadata": {},
   "outputs": [],
   "source": [
    "my_list = ['element1', '2'] "
   ]
  },
  {
   "cell_type": "code",
   "execution_count": null,
   "metadata": {},
   "outputs": [],
   "source": [
    "';'.join(my_list)"
   ]
  },
  {
   "cell_type": "code",
   "execution_count": null,
   "metadata": {},
   "outputs": [],
   "source": [
    "a = 'CRIX'\n",
    "b = 'FRM'\n",
    "c = 'Quantlet'\n",
    "cool_projects = ', '.join([a, b, c]) # This is equal to a + ', ' + b + ', ' + c"
   ]
  },
  {
   "cell_type": "code",
   "execution_count": null,
   "metadata": {},
   "outputs": [],
   "source": [
    "print('Some cool projects: {}'.format(cool_projects))"
   ]
  },
  {
   "cell_type": "markdown",
   "metadata": {},
   "source": [
    "#### str.upper(), str.lower(), str.title()"
   ]
  },
  {
   "cell_type": "code",
   "execution_count": null,
   "metadata": {},
   "outputs": [],
   "source": [
    "mixed_case = 'CRIX iS GrEat!'"
   ]
  },
  {
   "cell_type": "code",
   "execution_count": null,
   "metadata": {},
   "outputs": [],
   "source": [
    "mixed_case.upper()"
   ]
  },
  {
   "cell_type": "code",
   "execution_count": null,
   "metadata": {},
   "outputs": [],
   "source": [
    "mixed_case.lower()"
   ]
  },
  {
   "cell_type": "code",
   "execution_count": null,
   "metadata": {},
   "outputs": [],
   "source": [
    "mixed_case.title()"
   ]
  },
  {
   "cell_type": "markdown",
   "metadata": {},
   "source": [
    "#### str.split()"
   ]
  },
  {
   "cell_type": "code",
   "execution_count": null,
   "metadata": {},
   "outputs": [],
   "source": [
    "sentence = 'Crix is an awesome project. Everyone loves it!'\n",
    "words = sentence.split(' ')\n",
    "print(words)"
   ]
  },
  {
   "cell_type": "code",
   "execution_count": null,
   "metadata": {},
   "outputs": [],
   "source": [
    "sentence.split('.')"
   ]
  },
  {
   "cell_type": "markdown",
   "metadata": {},
   "source": [
    "#### Calling multiple methods in a row"
   ]
  },
  {
   "cell_type": "code",
   "execution_count": null,
   "metadata": {},
   "outputs": [],
   "source": [
    "ugly_mixed_case = 'CRIX iS GrEat!'\n",
    "pretty = ugly_mixed_case.lower().title().replace('Great', 'Awesome')\n",
    "print(pretty)"
   ]
  },
  {
   "cell_type": "markdown",
   "metadata": {},
   "source": [
    "### Numbers"
   ]
  },
  {
   "cell_type": "markdown",
   "metadata": {},
   "source": [
    "#### int"
   ]
  },
  {
   "cell_type": "code",
   "execution_count": null,
   "metadata": {},
   "outputs": [],
   "source": [
    "my_int = 6\n",
    "print('It would be weird if the CRIX is equal to: {}, type: {}'.format(my_int, type(my_int)))"
   ]
  },
  {
   "cell_type": "markdown",
   "metadata": {},
   "source": [
    "#### float"
   ]
  },
  {
   "cell_type": "code",
   "execution_count": null,
   "metadata": {},
   "outputs": [],
   "source": [
    "int(8.0)"
   ]
  },
  {
   "cell_type": "code",
   "execution_count": null,
   "metadata": {},
   "outputs": [],
   "source": [
    "my_float = float(my_int)\n",
    "print('Less weird but still weird would be: {}, type: {}'.format(my_float, type(my_float)))"
   ]
  },
  {
   "cell_type": "code",
   "execution_count": null,
   "metadata": {},
   "outputs": [],
   "source": [
    "import numpy as np"
   ]
  },
  {
   "cell_type": "code",
   "execution_count": null,
   "metadata": {},
   "outputs": [],
   "source": [
    "np.float32(6)"
   ]
  },
  {
   "cell_type": "code",
   "execution_count": null,
   "metadata": {},
   "outputs": [],
   "source": [
    "5+0.001-0.999"
   ]
  },
  {
   "cell_type": "markdown",
   "metadata": {},
   "source": [
    "### Boolean"
   ]
  },
  {
   "cell_type": "markdown",
   "metadata": {},
   "source": [
    "#### bool"
   ]
  },
  {
   "cell_type": "code",
   "execution_count": null,
   "metadata": {},
   "outputs": [],
   "source": [
    "print('type of True and False: {}'.format(type(True)))"
   ]
  },
  {
   "cell_type": "code",
   "execution_count": null,
   "metadata": {},
   "outputs": [],
   "source": [
    "print('0: {}, 1: {}'.format(bool(0), bool(1)))\n",
    "print('empty list: {}, list with values: {}'.format(bool([]), bool(['woop'])))\n",
    "print('empty dict: {}, dict with values: {}'.format(bool({}), bool({'Python': 'cool'})))"
   ]
  },
  {
   "cell_type": "code",
   "execution_count": null,
   "metadata": {},
   "outputs": [],
   "source": [
    "print('1 == 0: {}'.format(1 == 0))"
   ]
  },
  {
   "cell_type": "code",
   "execution_count": null,
   "metadata": {},
   "outputs": [],
   "source": [
    "print('1 <= 2 <= 3: {}'.format(1 <= 2 <= 3))"
   ]
  },
  {
   "cell_type": "markdown",
   "metadata": {},
   "source": [
    "### and, or, not"
   ]
  },
  {
   "cell_type": "code",
   "execution_count": null,
   "metadata": {},
   "outputs": [],
   "source": [
    "python_is_cool = True\n",
    "java_is_cool = False"
   ]
  },
  {
   "cell_type": "code",
   "execution_count": null,
   "metadata": {},
   "outputs": [],
   "source": [
    "print('Python and java are both cool: {}'.format(python_is_cool and java_is_cool))"
   ]
  },
  {
   "cell_type": "code",
   "execution_count": null,
   "metadata": {},
   "outputs": [],
   "source": [
    "print('Python is cool and java is not: {}'.format(python_is_cool and not java_is_cool))"
   ]
  },
  {
   "cell_type": "code",
   "execution_count": null,
   "metadata": {},
   "outputs": [],
   "source": [
    "print('Python or java is cool: {}'.format(python_is_cool or java_is_cool))"
   ]
  },
  {
   "cell_type": "markdown",
   "metadata": {},
   "source": [
    "You can combine multiple statements. You can control the execution order by using brackets."
   ]
  },
  {
   "cell_type": "code",
   "execution_count": null,
   "metadata": {},
   "outputs": [],
   "source": [
    "c_is_cool = True"
   ]
  },
  {
   "cell_type": "code",
   "execution_count": null,
   "metadata": {},
   "outputs": [],
   "source": [
    "print(bool( (java_is_cool or c_is_cool) and  python_is_cool))"
   ]
  },
  {
   "cell_type": "markdown",
   "metadata": {},
   "source": [
    "### Lists"
   ]
  },
  {
   "cell_type": "code",
   "execution_count": null,
   "metadata": {},
   "outputs": [],
   "source": [
    "my_list = []"
   ]
  },
  {
   "cell_type": "code",
   "execution_count": null,
   "metadata": {},
   "outputs": [],
   "source": [
    "list_of_ints = [1, 2, 6, 7]\n",
    "list_of_misc = [0.2, 5, 'CRIX', True, [2,3]]"
   ]
  },
  {
   "cell_type": "markdown",
   "metadata": {},
   "source": [
    "#### Accessing values"
   ]
  },
  {
   "cell_type": "code",
   "execution_count": null,
   "metadata": {},
   "outputs": [],
   "source": [
    "print(list_of_misc[0])\n",
    "print(list_of_misc[4])"
   ]
  },
  {
   "cell_type": "markdown",
   "metadata": {},
   "source": [
    "#### Updating values"
   ]
  },
  {
   "cell_type": "code",
   "execution_count": null,
   "metadata": {},
   "outputs": [],
   "source": [
    "my_list = [0, 1, 2, 3, 4, 5]\n",
    "my_list[0] = 99\n",
    "print(my_list)\n",
    "\n",
    "# remove first value\n",
    "del my_list[0]\n",
    "print(my_list)"
   ]
  },
  {
   "cell_type": "markdown",
   "metadata": {},
   "source": [
    "#### Checking if a certain value is present in list"
   ]
  },
  {
   "cell_type": "code",
   "execution_count": null,
   "metadata": {},
   "outputs": [],
   "source": [
    "print(my_list)\n",
    "0 in my_list"
   ]
  },
  {
   "cell_type": "markdown",
   "metadata": {},
   "source": [
    "#### list.append()"
   ]
  },
  {
   "cell_type": "code",
   "execution_count": null,
   "metadata": {},
   "outputs": [],
   "source": [
    "x = [1, 2, 3]\n",
    "x.append(0)"
   ]
  },
  {
   "cell_type": "code",
   "execution_count": null,
   "metadata": {},
   "outputs": [],
   "source": [
    "x"
   ]
  },
  {
   "cell_type": "code",
   "execution_count": null,
   "metadata": {},
   "outputs": [],
   "source": [
    "[item for sublist in [[0, 1, 2 ],[3, 4]] for item in sublist]"
   ]
  },
  {
   "cell_type": "code",
   "execution_count": null,
   "metadata": {},
   "outputs": [],
   "source": [
    "4 in [0, 1, 2, [3, 4]]"
   ]
  },
  {
   "cell_type": "code",
   "execution_count": null,
   "metadata": {},
   "outputs": [],
   "source": [
    "4 in [0, 1, 2, 3, 4]"
   ]
  },
  {
   "cell_type": "code",
   "execution_count": null,
   "metadata": {},
   "outputs": [],
   "source": [
    "my_list = ['Great']\n",
    "my_list.append('Crix')\n",
    "print(my_list)"
   ]
  },
  {
   "cell_type": "code",
   "execution_count": null,
   "metadata": {},
   "outputs": [],
   "source": [
    "my_list.append(['is','fun'])\n",
    "print(my_list)"
   ]
  },
  {
   "cell_type": "markdown",
   "metadata": {},
   "source": [
    "#### list.extend()"
   ]
  },
  {
   "cell_type": "code",
   "execution_count": null,
   "metadata": {},
   "outputs": [],
   "source": [
    "my_list = ['Great']\n",
    "my_list.append('Crix')"
   ]
  },
  {
   "cell_type": "code",
   "execution_count": null,
   "metadata": {},
   "outputs": [],
   "source": [
    "\n",
    "second_list = ['is','fun']\n",
    "my_list.extend(second_list)\n",
    "print(my_list)"
   ]
  },
  {
   "cell_type": "markdown",
   "metadata": {},
   "source": [
    "#### list.remove()\n"
   ]
  },
  {
   "cell_type": "code",
   "execution_count": null,
   "metadata": {},
   "outputs": [],
   "source": [
    "my_list = ['Crix', 'is', 'sometimes', 'fun']\n",
    "my_list.remove('sometimes')\n",
    "print(my_list)"
   ]
  },
  {
   "cell_type": "markdown",
   "metadata": {},
   "source": [
    "#### list.sort()"
   ]
  },
  {
   "cell_type": "code",
   "execution_count": null,
   "metadata": {},
   "outputs": [],
   "source": [
    "numbers = [8, 1, 6, 5, 10]\n",
    "numbers.sort()\n",
    "print('numbers: {}'.format(numbers))\n",
    "\n",
    "numbers.sort(reverse=True)\n",
    "print('numbers reversed: {}'.format(numbers))\n",
    "\n",
    "words = ['this', 'is', 'a', 'list', 'of', 'words']\n",
    "words.sort()\n",
    "print('words: {}'.format(words))\n"
   ]
  },
  {
   "cell_type": "markdown",
   "metadata": {},
   "source": [
    "#### list.reverse()"
   ]
  },
  {
   "cell_type": "code",
   "execution_count": null,
   "metadata": {},
   "outputs": [],
   "source": [
    "my_list = ['Crix','is', 'great', 'fun']\n",
    "my_list.reverse()\n",
    "print(my_list)"
   ]
  },
  {
   "cell_type": "code",
   "execution_count": null,
   "metadata": {},
   "outputs": [],
   "source": [
    "my_list[::-1]"
   ]
  },
  {
   "cell_type": "markdown",
   "metadata": {},
   "source": [
    "## Dictionaries\n",
    "\n",
    "Collections of key-value pairs."
   ]
  },
  {
   "cell_type": "code",
   "execution_count": null,
   "metadata": {},
   "outputs": [],
   "source": [
    "my_dict = {}  # alternative: my_empty_dict = dict()"
   ]
  },
  {
   "cell_type": "code",
   "execution_count": null,
   "metadata": {},
   "outputs": [],
   "source": [
    "dict1 = {'age': 26, 'location': 'Berlin', 'name': 'Marvin Gauer'}\n",
    "dict2 = dict(age=26, location='Berlin', name='Marvin Gauer')"
   ]
  },
  {
   "cell_type": "code",
   "execution_count": null,
   "metadata": {},
   "outputs": [],
   "source": [
    "print(dict1)\n",
    "print(dict2)"
   ]
  },
  {
   "cell_type": "markdown",
   "metadata": {},
   "source": [
    "#### dict.keys(), dict.values(), dict.items()"
   ]
  },
  {
   "cell_type": "code",
   "execution_count": null,
   "metadata": {},
   "outputs": [],
   "source": [
    "print('keys: {}'.format(dict1.keys()))\n",
    "print('values: {}'.format(dict1.values()))\n",
    "print('items: {}'.format(dict1.items()))"
   ]
  },
  {
   "cell_type": "markdown",
   "metadata": {},
   "source": [
    "#### Accessing and setting values"
   ]
  },
  {
   "cell_type": "code",
   "execution_count": null,
   "metadata": {},
   "outputs": [],
   "source": [
    "print(dict1['age'])\n",
    "dict1['age'] = 27\n",
    "print(dict1['age'])"
   ]
  },
  {
   "cell_type": "markdown",
   "metadata": {},
   "source": [
    "Accessing a nonexistent key will raise KeyError (see dict.get() for workaround):"
   ]
  },
  {
   "cell_type": "code",
   "execution_count": null,
   "metadata": {},
   "outputs": [],
   "source": [
    "dict1['religion'] # see dict.get() to avoid the key error"
   ]
  },
  {
   "cell_type": "markdown",
   "metadata": {},
   "source": [
    "#### Deleting"
   ]
  },
  {
   "cell_type": "code",
   "execution_count": null,
   "metadata": {},
   "outputs": [],
   "source": [
    "del dict1['age']\n",
    "print(dict1)"
   ]
  },
  {
   "cell_type": "markdown",
   "metadata": {},
   "source": [
    "#### dict.get()"
   ]
  },
  {
   "cell_type": "code",
   "execution_count": null,
   "metadata": {},
   "outputs": [],
   "source": [
    "dict1.get('religion','Not available')"
   ]
  },
  {
   "cell_type": "code",
   "execution_count": null,
   "metadata": {},
   "outputs": [],
   "source": [
    "dict1['religion']"
   ]
  },
  {
   "cell_type": "markdown",
   "metadata": {},
   "source": [
    "#### dict.pop()"
   ]
  },
  {
   "cell_type": "code",
   "execution_count": null,
   "metadata": {},
   "outputs": [],
   "source": [
    "dict1 = {'age': 35, 'location': 'Berlin', 'name': 'James Bond'}\n",
    "print('dict before pops: {}'.format(dict1))\n",
    "\n",
    "# Delete from dict but retrieve value\n",
    "loc = dict1.pop('location')\n",
    "print('location: {}'.format(loc))\n",
    "print('dict after pops: {}'.format(dict1))"
   ]
  },
  {
   "cell_type": "code",
   "execution_count": null,
   "metadata": {},
   "outputs": [],
   "source": [
    "dict1 = {'age': 35, 'location': 'Berlin', 'name': 'James Bond'}\n",
    "print('dict before pops: {}'.format(dict1))\n",
    "\n",
    "# In case of missing key you can supply a default value to retrieve\n",
    "loc_again = dict1.pop('loc', 'Amsterdam')\n",
    "print('location again: {}'.format(loc_again))\n",
    "print('dict after popping location again: {}'.format(dict1))"
   ]
  },
  {
   "cell_type": "markdown",
   "metadata": {},
   "source": [
    "### dict.setdefault()\n",
    "\n",
    "Returns the value of key defined as first parameter. If the key is not present in the dict, adds key with default value (second parameter)."
   ]
  },
  {
   "cell_type": "code",
   "execution_count": null,
   "metadata": {},
   "outputs": [],
   "source": [
    "my_dict = {'age': 35, 'location': 'Berlin', 'name': 'James Bond'}\n",
    "print('my_dict: {}'.format(my_dict))\n",
    "age = my_dict.setdefault('age', '18')\n",
    "gender = my_dict.setdefault('gender', 'Male')\n",
    "print('age: {}\\ngender: {}\\nmy_dict: {}'.format(age, gender, my_dict))"
   ]
  },
  {
   "cell_type": "markdown",
   "metadata": {},
   "source": [
    "### dict.update()\n",
    "\n",
    "Merge two dicts"
   ]
  },
  {
   "cell_type": "code",
   "execution_count": null,
   "metadata": {},
   "outputs": [],
   "source": [
    "my_dict = {'age': 35, 'location': 'Berlin', 'name': 'James Bond'}\n",
    "my_dict_2 = {'gender': 'Male'}\n",
    "\n",
    "# If key is not present, it will be created\n",
    "my_dict.update(my_dict_2)\n",
    "print(my_dict)\n",
    "\n",
    "# The key will be replaced if they have same keys:\n",
    "my_dict.update({'name': 'Max Mustermann'})\n",
    "print(my_dict)"
   ]
  },
  {
   "cell_type": "markdown",
   "metadata": {},
   "source": [
    "## Arithmetics\n",
    "\n",
    "Here are some commonly used mathematical operators. Assume you have two variables a = 10 and b = 20:\n",
    "\n",
    "| Syntax | Math | Description |\n",
    "| --------------- | --------------- | --------------- |\n",
    "|<img width=100/>|<img width=100/>|<img width=100/>|\n",
    "| a+b | a + b | addition |\n",
    "| a-b | a - b | substraction |\n",
    "| a*b | a $\\cdot$ b | multiplication |\n",
    "| a/b | a $\\div$ b | division |\n",
    "| a//b |$\\lfloor a\\div b\\rfloor$| floor division |\n",
    "| a%b | a mod b | modulo |\n",
    "| -a | -a | negation |\n",
    "| abs(a) | $\\| a\\|$ | absolute |\n",
    "| a**b | $a^{b}$ | power |\n",
    "| math.sqrt(a) | $\\sqrt{a}$ | square root |\n",
    "\n",
    "\n",
    "Please note, in order to use the math.sqrt() function, you must explicitly tell Python that you want it to load the math module.<br>\n",
    "Therefore, write \\\"import math\\\" in the heading of your python script."
   ]
  },
  {
   "cell_type": "markdown",
   "metadata": {},
   "source": [
    "## Conditionals\n",
    "\n",
    "### if"
   ]
  },
  {
   "cell_type": "code",
   "execution_count": null,
   "metadata": {},
   "outputs": [],
   "source": [
    "statement = True\n",
    "if statement:\n",
    "    print('The Statement is True')\n",
    "    \n",
    "if not statement: # Alternative: if statement != True:\n",
    "    print('The Statement is not True')"
   ]
  },
  {
   "cell_type": "code",
   "execution_count": null,
   "metadata": {},
   "outputs": [],
   "source": [
    "empty_list = []\n",
    "# With if and elif, conversion to `bool` is implicit -> empty lists are interpreted as False\n",
    "if not empty_list:\n",
    "    print('empty list will evaluate to False')"
   ]
  },
  {
   "cell_type": "code",
   "execution_count": null,
   "metadata": {},
   "outputs": [],
   "source": [
    "empty_dict = {}\n",
    "# With if and elif, conversion to `bool` is implicit -> empty dicts are interpreted as False\n",
    "if not empty_dict:\n",
    "    print('there is nothing in my dict')"
   ]
  },
  {
   "cell_type": "code",
   "execution_count": null,
   "metadata": {},
   "outputs": [],
   "source": [
    "val = 3\n",
    "if 0 <= val < 1 or val == 3:\n",
    "    print('Value is positive and less than one or value is three')"
   ]
  },
  {
   "cell_type": "markdown",
   "metadata": {},
   "source": [
    "### if-else"
   ]
  },
  {
   "cell_type": "code",
   "execution_count": null,
   "metadata": {},
   "outputs": [],
   "source": [
    "my_dict = {}\n",
    "if my_dict:\n",
    "    print('there is something in my dict')\n",
    "else:\n",
    "    print('my dict is empty')"
   ]
  },
  {
   "cell_type": "markdown",
   "metadata": {},
   "source": [
    "### if-elif-else"
   ]
  },
  {
   "cell_type": "code",
   "execution_count": null,
   "metadata": {},
   "outputs": [],
   "source": [
    "val = 88\n",
    "if val >= 100:\n",
    "    print('value is equal or greater than 100')\n",
    "elif val > 10:\n",
    "    print('value is greater than 10 but less than 100')\n",
    "else:\n",
    "    print('value is equal or less than 10')"
   ]
  },
  {
   "cell_type": "markdown",
   "metadata": {},
   "source": [
    "You can have as many elif statements as you need. In addition, else at the end is not mandatory."
   ]
  },
  {
   "cell_type": "markdown",
   "metadata": {},
   "source": [
    "## Functions"
   ]
  },
  {
   "cell_type": "code",
   "execution_count": null,
   "metadata": {},
   "outputs": [],
   "source": [
    "# Definition of a function\n",
    "def my_first_function():\n",
    "    print('Hello world!')"
   ]
  },
  {
   "cell_type": "code",
   "execution_count": null,
   "metadata": {},
   "outputs": [],
   "source": [
    "# Call a function\n",
    "my_first_function()"
   ]
  },
  {
   "cell_type": "markdown",
   "metadata": {},
   "source": [
    "### Arguments"
   ]
  },
  {
   "cell_type": "code",
   "execution_count": null,
   "metadata": {},
   "outputs": [],
   "source": [
    "def greet_us(name1, name2):\n",
    "    print('Hello {} and {}!'.format(name1, name2))\n",
    "    print('How')\n",
    "print('dsdassdasd')    \n",
    "\n",
    "greet_us('Marvin', 'Raphael')"
   ]
  },
  {
   "cell_type": "code",
   "execution_count": null,
   "metadata": {},
   "outputs": [],
   "source": [
    "# Set default values\n",
    "def greet_us(name1, name2 = 'Marvin'):\n",
    "    print('Hello {} and {}!'.format(name1, name2))\n",
    "\n",
    "greet_us('Prof. Dr. Härdle', 'Liza')\n",
    "greet_us('Prof. Dr. Härdle')"
   ]
  },
  {
   "cell_type": "code",
   "execution_count": null,
   "metadata": {},
   "outputs": [],
   "source": [
    "# Function with return value\n",
    "def even_number_checker(number):\n",
    "    if number%2 == 0:\n",
    "        even = 'Even'\n",
    "    else:\n",
    "        even = 'Not even'\n",
    "    return even\n",
    "\n",
    "n,m = 10,19\n",
    "print('n = {}: {}'.format(n, even_number_checker(n)))\n",
    "print('m = {}: {}'.format(m, even_number_checker(m)))"
   ]
  },
  {
   "cell_type": "markdown",
   "metadata": {},
   "source": [
    "## Loops\n",
    "\n",
    "### for\n",
    "\n",
    "#### Looping lists"
   ]
  },
  {
   "cell_type": "code",
   "execution_count": null,
   "metadata": {},
   "outputs": [],
   "source": [
    "my_list = [1, 2, 3, 4, 'Crix', 'is', 'great!']\n",
    "for x in my_list:\n",
    "    print(x)\n",
    "    \n",
    "for element in my_list:\n",
    "    print(element)"
   ]
  },
  {
   "cell_type": "markdown",
   "metadata": {},
   "source": [
    "#### Looping dictionaries"
   ]
  },
  {
   "cell_type": "code",
   "execution_count": null,
   "metadata": {},
   "outputs": [],
   "source": [
    "my_dict = {'hacker': True, 'age': 72, 'name': 'John Doe'}\n",
    "for val in my_dict:\n",
    "    print(val)"
   ]
  },
  {
   "cell_type": "code",
   "execution_count": null,
   "metadata": {},
   "outputs": [],
   "source": [
    "for i, (key, val) in enumerate(my_dict.items()):\n",
    "    print('{}={}'.format(key, val))\n",
    "    print(i)"
   ]
  },
  {
   "cell_type": "markdown",
   "metadata": {},
   "source": [
    "#### range()"
   ]
  },
  {
   "cell_type": "code",
   "execution_count": null,
   "metadata": {},
   "outputs": [],
   "source": [
    "for number in range(5): # single arguments means final value + 1\n",
    "    print(number)"
   ]
  },
  {
   "cell_type": "code",
   "execution_count": null,
   "metadata": {},
   "outputs": [],
   "source": [
    "for number in range(1,10,2): # range(start = 0,end, stepsize = 1)\n",
    "    print(number)"
   ]
  },
  {
   "cell_type": "markdown",
   "metadata": {},
   "source": [
    "#### break\n",
    "\n",
    "Stop the execution of the loop."
   ]
  },
  {
   "cell_type": "code",
   "execution_count": null,
   "metadata": {},
   "outputs": [],
   "source": [
    "my_list = [1, 2, 3, 4, 'Crix', 'is', 'great!']\n",
    "for item in my_list:\n",
    "    if item == 4:\n",
    "        break\n",
    "    print(item)"
   ]
  },
  {
   "cell_type": "markdown",
   "metadata": {},
   "source": [
    "#### continue\n",
    "\n",
    "Continue to the next item without executing the lines occuring after continue inside the loop."
   ]
  },
  {
   "cell_type": "code",
   "execution_count": null,
   "metadata": {},
   "outputs": [],
   "source": [
    "my_list = [1, 2, 3, 4, 'Crix', 'is', 'great!']\n",
    "for item in my_list:\n",
    "    if item == 2:\n",
    "        continue\n",
    "    print(item)"
   ]
  },
  {
   "cell_type": "markdown",
   "metadata": {},
   "source": [
    "#### enumerate()\n",
    "\n",
    "In case you need to also know the index:"
   ]
  },
  {
   "cell_type": "code",
   "execution_count": null,
   "metadata": {},
   "outputs": [],
   "source": [
    "my_list = [1, 2, 3, 4, 'Crix', 'is', 'great!']\n",
    "for idx, val in enumerate(my_list):\n",
    "    print('idx: {}, value: {}'.format(idx, val))"
   ]
  },
  {
   "cell_type": "markdown",
   "metadata": {},
   "source": [
    "#### List comprehension\n",
    "\n",
    "List comprehensions provide a concise way to create lists."
   ]
  },
  {
   "cell_type": "code",
   "execution_count": null,
   "metadata": {},
   "outputs": [],
   "source": [
    "Celsius = [39.2, 36.5, 37.3, 37.8]"
   ]
  },
  {
   "cell_type": "code",
   "execution_count": null,
   "metadata": {},
   "outputs": [],
   "source": [
    "for x in Celsius:\n",
    "    #print(x)\n",
    "    print(round(((float(9)/5)*x + 32),1))"
   ]
  },
  {
   "cell_type": "code",
   "execution_count": null,
   "metadata": {},
   "outputs": [],
   "source": [
    "Celsius = [39.2, 36.5, 37.3, 37.8]\n",
    "Fahrenheit = [ round(((float(9)/5)*x + 32),1) for x in Celsius ]\n",
    "print(Fahrenheit)"
   ]
  },
  {
   "cell_type": "code",
   "execution_count": null,
   "metadata": {},
   "outputs": [],
   "source": [
    "Celsius = [39.2, 36.5, 'Test', 37.3, 37.8]\n",
    "Fahrenheit = [ round(((float(9)/5)*x + 32),1) for x in Celsius if isinstance(x, (int, float))]\n",
    "print(Fahrenheit)"
   ]
  },
  {
   "cell_type": "markdown",
   "metadata": {},
   "source": [
    "### while\n",
    "\n",
    " \n",
    "The while loop tells the computer to do something as long as the condition is met\n",
    "it's construct consists of a block of code and a condition. \n",
    "\n",
    "It works like this: \" while this is true, do this \""
   ]
  },
  {
   "cell_type": "code",
   "execution_count": null,
   "metadata": {},
   "outputs": [],
   "source": [
    "counter = 0\n",
    "while counter <= 20:\n",
    "    print(counter)\n",
    "    counter += 2 # Equivalent to counter = counter + 2 "
   ]
  },
  {
   "cell_type": "markdown",
   "metadata": {},
   "source": [
    "## Exercises\n",
    "\n",
    "### 1. Number of hours in 7 weeks\n",
    "\n",
    "Write a function that calculates the amount of hours within a N (integer and default to 7) week timeframe."
   ]
  },
  {
   "cell_type": "code",
   "execution_count": null,
   "metadata": {},
   "outputs": [],
   "source": [
    "# Solution will be discussed in class"
   ]
  },
  {
   "cell_type": "markdown",
   "metadata": {},
   "source": [
    "### 2. Fibonacci\n",
    "\n",
    "Write a program that asks the user how many Fibonnaci numbers to generate and then generates them. Take this opportunity to think about how you can use functions. Make sure to ask the user to enter the number of numbers in the sequence to generate.(Hint: The Fibonnaci seqence is a sequence of numbers where the next number in the sequence is the sum of the previous two numbers in the sequence. The sequence looks like this: 1, 1, 2, 3, 5, 8, 13, …)"
   ]
  },
  {
   "cell_type": "code",
   "execution_count": null,
   "metadata": {},
   "outputs": [],
   "source": [
    "# Solution will be discussed in class"
   ]
  },
  {
   "cell_type": "markdown",
   "metadata": {},
   "source": [
    "### 3. List Remove Duplicates\n",
    "\n",
    "Write a program (function!) that takes a list and returns a new list that contains all the elements of the first list minus all the duplicates."
   ]
  },
  {
   "cell_type": "code",
   "execution_count": null,
   "metadata": {},
   "outputs": [],
   "source": [
    "# Solution will be discussed in class"
   ]
  },
  {
   "cell_type": "markdown",
   "metadata": {},
   "source": [
    "### 4. Prime Numbers\n",
    "\n",
    "Write a program (function!) that takes an integer and returns a new list that contains all the prime numbers up to the specified integer.\n"
   ]
  },
  {
   "cell_type": "code",
   "execution_count": null,
   "metadata": {},
   "outputs": [],
   "source": [
    "# Solution will be discussed in class"
   ]
  },
  {
   "cell_type": "markdown",
   "metadata": {},
   "source": [
    "### 5. Seperate Lists\n",
    "\n",
    "Given a two lists of ints create a third list such that this contains only odd numbers from the first list and even numbers from the second list."
   ]
  },
  {
   "cell_type": "code",
   "execution_count": null,
   "metadata": {},
   "outputs": [],
   "source": [
    "# Solution will be discussed in class"
   ]
  },
  {
   "cell_type": "markdown",
   "metadata": {},
   "source": [
    "### 6. Count occurencees in Texts\n",
    "\n",
    "Given a text, count the occurrences of each word in that text. Example text:<br>\n",
    "\n",
    "\"Is Crix great? Crix is awesome and will always be awesome.\"\n"
   ]
  },
  {
   "cell_type": "code",
   "execution_count": null,
   "metadata": {},
   "outputs": [],
   "source": [
    "# Solution will be discussed in class"
   ]
  },
  {
   "cell_type": "markdown",
   "metadata": {},
   "source": [
    "### 7. Reverse word order\n",
    "\n",
    "Write a program that asks the user for a long string containing multiple words. Print back to the user the same string, except with the words in backwards order. For example, say I type the string:\n",
    "\n",
    "`My name is Michele`\n",
    "\n",
    "Then the programm should return the string:\n",
    "\n",
    "`Michele is name My`"
   ]
  },
  {
   "cell_type": "code",
   "execution_count": null,
   "metadata": {},
   "outputs": [],
   "source": [
    "# Solution will be discussed in class"
   ]
  },
  {
   "cell_type": "markdown",
   "metadata": {},
   "source": [
    "### 8. Division checker\n",
    "\n",
    "Write code which will find all such numbers which are divisible by 7 but are not a multiple of 5,\n",
    "between 2000 and 3200 (both included).\n",
    "The numbers obtained should be printed in a comma-separated sequence on a single line."
   ]
  },
  {
   "cell_type": "code",
   "execution_count": null,
   "metadata": {},
   "outputs": [],
   "source": [
    "# Solution will be discussed in class"
   ]
  },
  {
   "cell_type": "markdown",
   "metadata": {},
   "source": [
    "### 9. Reverse word order\n",
    "\n",
    "Write code that accepts a comma separated sequence of words as input and prints the words in a comma-separated sequence after sorting them alphabetically.\n",
    "Suppose the following input is supplied to the program:\n",
    "    \n",
    "`without,hello,bag,world`\n",
    "\n",
    "Then, the output should be:\n",
    "    \n",
    "`bag,hello,without,world`\n"
   ]
  },
  {
   "cell_type": "code",
   "execution_count": null,
   "metadata": {},
   "outputs": [],
   "source": [
    "# Solution will be discussed in class"
   ]
  },
  {
   "cell_type": "markdown",
   "metadata": {},
   "source": [
    "### 10. Transaction calculator\n",
    "\n",
    "Write a program that computes the net amount of a bank account based a transaction log from console input. The transaction log format is shown as following:\n",
    "\n",
    "`D 100` <br>\n",
    "`W 200`\n",
    "\n",
    "D means deposit while W means withdrawal.\n",
    "Suppose the following input is supplied to the program:\n",
    "\n",
    "`D 300` <br>\n",
    "`D 300` <br>\n",
    "`W 200` <br>\n",
    "`D 100`\n",
    "\n",
    "Then, the final output should be:\n",
    "\n",
    "`500`"
   ]
  },
  {
   "cell_type": "code",
   "execution_count": null,
   "metadata": {},
   "outputs": [],
   "source": [
    "# Solution will be discussed in class"
   ]
  }
 ],
 "metadata": {
  "kernelspec": {
   "display_name": "Python 3",
   "language": "python",
   "name": "python3"
  },
  "language_info": {
   "codemirror_mode": {
    "name": "ipython",
    "version": 3
   },
   "file_extension": ".py",
   "mimetype": "text/x-python",
   "name": "python",
   "nbconvert_exporter": "python",
   "pygments_lexer": "ipython3",
   "version": "3.7.3"
  }
 },
 "nbformat": 4,
 "nbformat_minor": 4
}
